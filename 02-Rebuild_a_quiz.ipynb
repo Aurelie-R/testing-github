{
 "cells": [
  {
   "cell_type": "markdown",
   "metadata": {},
   "source": [
    "# Build a quiz - Part 2"
   ]
  },
  {
   "cell_type": "markdown",
   "metadata": {},
   "source": [
    "Below is the code we wrote yesterday, that asks three questions to the user and allows up to 3 wrong answers :"
   ]
  },
  {
   "cell_type": "code",
   "execution_count": 2,
   "metadata": {},
   "outputs": [
    {
     "name": "stdout",
     "output_type": "stream",
     "text": [
      "Voici notre quiz, tu as trois chances !\n"
     ]
    },
    {
     "name": "stdin",
     "output_type": "stream",
     "text": [
      "Combien de fois la France a gagné la coupe du monde ?  2\n",
      "Quand a été fondé Apple ?  1967\n"
     ]
    },
    {
     "name": "stdout",
     "output_type": "stream",
     "text": [
      "Dommage ! Il te reste 2 chances\n"
     ]
    },
    {
     "name": "stdin",
     "output_type": "stream",
     "text": [
      "Quand a été fondé Apple ?  1976\n",
      "Qui a fondé SpaceX ?  textavery\n"
     ]
    },
    {
     "name": "stdout",
     "output_type": "stream",
     "text": [
      "Dommage ! Il te reste 1 chances\n"
     ]
    },
    {
     "name": "stdin",
     "output_type": "stream",
     "text": [
      "Qui a fondé SpaceX ?  elon musk\n"
     ]
    },
    {
     "name": "stdout",
     "output_type": "stream",
     "text": [
      "Bravo ! Tu as gagné le quiz !\n"
     ]
    }
   ],
   "source": [
    "nb_de_chances = 3\n",
    "\n",
    "print(\"Voici notre quiz, tu as trois chances !\")\n",
    "\n",
    "if nb_de_chances > 0:\n",
    "    question1= input(\"Combien de fois la France a gagné la coupe du monde ? \")\n",
    "    while question1 != \"2\":\n",
    "        nb_de_chances -= 1\n",
    "        print(\"Dommage ! Il te reste {} chances\".format(nb_de_chances))\n",
    "        if nb_de_chances == 0:\n",
    "            print(\"Oh non ! Tu as perdu le jeu...\")\n",
    "            break\n",
    "        question1 = input(\"Combien de fois la France a gagné la coupe du monde ? \")\n",
    "\n",
    "if nb_de_chances > 0:\n",
    "    question2 = input(\"Quand a été fondé Apple ? \")\n",
    "    while question2 != \"1976\":\n",
    "        nb_de_chances -=1\n",
    "        print(\"Dommage ! Il te reste {} chances\".format(nb_de_chances))\n",
    "        if nb_de_chances == 0:\n",
    "            print(\"Oh non ! Tu as perdu le jeu...\")\n",
    "            break\n",
    "        question2 = input(\"Quand a été fondé Apple ? \")\n",
    "\n",
    "\n",
    "if nb_de_chances > 0:\n",
    "    question3 = input(\"Qui a fondé SpaceX ? \")\n",
    "    question3 = question3.lower()\n",
    "    while question3 != \"elon musk\":\n",
    "        nb_de_chances -=1\n",
    "        print(\"Dommage ! Il te reste {} chances\".format(nb_de_chances))\n",
    "        if nb_de_chances == 0:\n",
    "            print(\"Oh non ! Tu as perdu le jeu...\")\n",
    "            break\n",
    "        question3 = input(\"Qui a fondé SpaceX ? \")\n",
    "        question3 = question3.lower()\n",
    "\n",
    "if nb_de_chances > 0:\n",
    "    print(\"Bravo ! Tu as gagné le quiz !\")\n"
   ]
  },
  {
   "cell_type": "markdown",
   "metadata": {},
   "source": [
    "Let's refactor our quiz now that we know how to be dry.\n",
    "\n",
    "SPECs: \n",
    "\n",
    "* Your code should be DRY \n",
    "* You should use functions "
   ]
  },
  {
   "cell_type": "code",
   "execution_count": 21,
   "metadata": {},
   "outputs": [],
   "source": [
    "def test_score(nb_de_chances):\n",
    "    if nb_de_chances <= 0 :\n",
    "        print(\"Oh non ! Tu as perdu le jeu...\")\n",
    "        return 1\n",
    "    else :\n",
    "        print(\"Dommage ! Il te reste {} chances\".format(nb_de_chances))\n",
    "        return 0\n",
    "\n",
    "def pose_question(question, reponse, nb_de_chances) :\n",
    "    reponse_user = input(question).lower()\n",
    "    while reponse_user != reponse :\n",
    "        nb_de_chances -= 1\n",
    "        if test_score(nb_de_chances) :\n",
    "            break\n",
    "        reponse_user = input(question)\n",
    "    return nb_de_chances\n",
    "        "
   ]
  },
  {
   "cell_type": "code",
   "execution_count": 23,
   "metadata": {},
   "outputs": [
    {
     "name": "stdout",
     "output_type": "stream",
     "text": [
      "Voici notre quiz, tu as 3 chances !\n"
     ]
    },
    {
     "name": "stdin",
     "output_type": "stream",
     "text": [
      "Combien de fois la France a gagné la coupe du monde ?  4\n"
     ]
    },
    {
     "name": "stdout",
     "output_type": "stream",
     "text": [
      "Dommage ! Il te reste 2 chances\n"
     ]
    },
    {
     "name": "stdin",
     "output_type": "stream",
     "text": [
      "Combien de fois la France a gagné la coupe du monde ?  2\n",
      "Quand a été fondé Apple ?  1976\n",
      "Qui a fondé SpaceX ?  Elon MUSK\n"
     ]
    },
    {
     "name": "stdout",
     "output_type": "stream",
     "text": [
      "Bravo ! Tu as gagné le quiz !\n"
     ]
    }
   ],
   "source": [
    "nb_de_chances = 3\n",
    "dic = {\"Combien de fois la France a gagné la coupe du monde ? \":\"2\", \"Quand a été fondé Apple ? \":\"1976\", \"Qui a fondé SpaceX ? \":\"elon musk\"}\n",
    "\n",
    "print(\"Voici notre quiz, tu as {} chances !\".format(nb_de_chances))\n",
    "\n",
    "for item in dic.items() :\n",
    "    if nb_de_chances > 0 :\n",
    "        nb_de_chances = pose_question(item[0], item[1], nb_de_chances)\n",
    "\n",
    "if nb_de_chances > 0 :\n",
    "    print(\"Bravo ! Tu as gagné le quiz !\")\n",
    "\n"
   ]
  }
 ],
 "metadata": {
  "kernelspec": {
   "display_name": "Python 3 (ipykernel)",
   "language": "python",
   "name": "python3"
  },
  "language_info": {
   "codemirror_mode": {
    "name": "ipython",
    "version": 3
   },
   "file_extension": ".py",
   "mimetype": "text/x-python",
   "name": "python",
   "nbconvert_exporter": "python",
   "pygments_lexer": "ipython3",
   "version": "3.12.7"
  }
 },
 "nbformat": 4,
 "nbformat_minor": 4
}
